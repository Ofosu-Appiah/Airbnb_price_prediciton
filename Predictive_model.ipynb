{
 "cells": [
  {
   "cell_type": "code",
   "execution_count": 1,
   "metadata": {},
   "outputs": [],
   "source": [
    "import pandas as pd\n",
    "import seaborn as sns\n",
    "import numpy as np\n",
    "import matplotlib.pyplot as plt\n",
    "from geopy.distance import great_circle\n",
    "from sklearn.preprocessing import StandardScaler\n",
    "from sklearn.model_selection import train_test_split\n",
    "from sklearn.pipeline import Pipeline\n",
    "from sklearn import metrics\n",
    "from sklearn.metrics import r2_score, mean_squared_error\n",
    "from sklearn.linear_model import LinearRegression\n",
    "from sklearn.tree import DecisionTreeRegressor\n",
    "from sklearn.ensemble import GradientBoostingRegressor\n",
    "from sklearn.ensemble import RandomForestRegressor\n",
    "from sklearn.model_selection import GridSearchCV"
   ]
  },
  {
   "cell_type": "markdown",
   "metadata": {},
   "source": [
    "### Step 1: Loading the data"
   ]
  },
  {
   "cell_type": "code",
   "execution_count": 2,
   "metadata": {},
   "outputs": [
    {
     "data": {
      "text/html": [
       "<div>\n",
       "<style scoped>\n",
       "    .dataframe tbody tr th:only-of-type {\n",
       "        vertical-align: middle;\n",
       "    }\n",
       "\n",
       "    .dataframe tbody tr th {\n",
       "        vertical-align: top;\n",
       "    }\n",
       "\n",
       "    .dataframe thead th {\n",
       "        text-align: right;\n",
       "    }\n",
       "</style>\n",
       "<table border=\"1\" class=\"dataframe\">\n",
       "  <thead>\n",
       "    <tr style=\"text-align: right;\">\n",
       "      <th></th>\n",
       "      <th>last_scraped</th>\n",
       "      <th>host_since</th>\n",
       "      <th>host_has_profile_pic</th>\n",
       "      <th>neighbourhood_group_cleansed</th>\n",
       "      <th>latitude</th>\n",
       "      <th>longitude</th>\n",
       "      <th>property_type</th>\n",
       "      <th>room_type</th>\n",
       "      <th>accommodates</th>\n",
       "      <th>bathrooms</th>\n",
       "      <th>...</th>\n",
       "      <th>price</th>\n",
       "      <th>cleaning_fee</th>\n",
       "      <th>number_of_reviews</th>\n",
       "      <th>security_deposit</th>\n",
       "      <th>extra_people</th>\n",
       "      <th>guests_included</th>\n",
       "      <th>minimum_nights</th>\n",
       "      <th>instant_bookable</th>\n",
       "      <th>cancellation_policy</th>\n",
       "      <th>require_guest_profile_picture</th>\n",
       "    </tr>\n",
       "  </thead>\n",
       "  <tbody>\n",
       "    <tr>\n",
       "      <th>0</th>\n",
       "      <td>1/4/2016</td>\n",
       "      <td>8/11/2011</td>\n",
       "      <td>t</td>\n",
       "      <td>Queen Anne</td>\n",
       "      <td>47.636289</td>\n",
       "      <td>-122.371025</td>\n",
       "      <td>Apartment</td>\n",
       "      <td>Entire home/apt</td>\n",
       "      <td>4</td>\n",
       "      <td>1.0</td>\n",
       "      <td>...</td>\n",
       "      <td>$85.00</td>\n",
       "      <td>NaN</td>\n",
       "      <td>207</td>\n",
       "      <td>NaN</td>\n",
       "      <td>$5.00</td>\n",
       "      <td>2</td>\n",
       "      <td>1</td>\n",
       "      <td>f</td>\n",
       "      <td>moderate</td>\n",
       "      <td>f</td>\n",
       "    </tr>\n",
       "    <tr>\n",
       "      <th>1</th>\n",
       "      <td>1/4/2016</td>\n",
       "      <td>2/21/2013</td>\n",
       "      <td>t</td>\n",
       "      <td>Queen Anne</td>\n",
       "      <td>47.639123</td>\n",
       "      <td>-122.365667</td>\n",
       "      <td>Apartment</td>\n",
       "      <td>Entire home/apt</td>\n",
       "      <td>4</td>\n",
       "      <td>1.0</td>\n",
       "      <td>...</td>\n",
       "      <td>$150.00</td>\n",
       "      <td>$40.00</td>\n",
       "      <td>43</td>\n",
       "      <td>$100.00</td>\n",
       "      <td>$0.00</td>\n",
       "      <td>1</td>\n",
       "      <td>2</td>\n",
       "      <td>f</td>\n",
       "      <td>strict</td>\n",
       "      <td>t</td>\n",
       "    </tr>\n",
       "    <tr>\n",
       "      <th>2</th>\n",
       "      <td>1/4/2016</td>\n",
       "      <td>6/12/2014</td>\n",
       "      <td>t</td>\n",
       "      <td>Queen Anne</td>\n",
       "      <td>47.629724</td>\n",
       "      <td>-122.369483</td>\n",
       "      <td>House</td>\n",
       "      <td>Entire home/apt</td>\n",
       "      <td>11</td>\n",
       "      <td>4.5</td>\n",
       "      <td>...</td>\n",
       "      <td>$975.00</td>\n",
       "      <td>$300.00</td>\n",
       "      <td>20</td>\n",
       "      <td>$1,000.00</td>\n",
       "      <td>$25.00</td>\n",
       "      <td>10</td>\n",
       "      <td>4</td>\n",
       "      <td>f</td>\n",
       "      <td>strict</td>\n",
       "      <td>f</td>\n",
       "    </tr>\n",
       "    <tr>\n",
       "      <th>3</th>\n",
       "      <td>1/4/2016</td>\n",
       "      <td>11/6/2013</td>\n",
       "      <td>t</td>\n",
       "      <td>Queen Anne</td>\n",
       "      <td>47.638473</td>\n",
       "      <td>-122.369279</td>\n",
       "      <td>Apartment</td>\n",
       "      <td>Entire home/apt</td>\n",
       "      <td>3</td>\n",
       "      <td>1.0</td>\n",
       "      <td>...</td>\n",
       "      <td>$100.00</td>\n",
       "      <td>NaN</td>\n",
       "      <td>0</td>\n",
       "      <td>NaN</td>\n",
       "      <td>$0.00</td>\n",
       "      <td>1</td>\n",
       "      <td>1</td>\n",
       "      <td>f</td>\n",
       "      <td>flexible</td>\n",
       "      <td>f</td>\n",
       "    </tr>\n",
       "    <tr>\n",
       "      <th>4</th>\n",
       "      <td>1/4/2016</td>\n",
       "      <td>11/29/2011</td>\n",
       "      <td>t</td>\n",
       "      <td>Queen Anne</td>\n",
       "      <td>47.632918</td>\n",
       "      <td>-122.372471</td>\n",
       "      <td>House</td>\n",
       "      <td>Entire home/apt</td>\n",
       "      <td>6</td>\n",
       "      <td>2.0</td>\n",
       "      <td>...</td>\n",
       "      <td>$450.00</td>\n",
       "      <td>$125.00</td>\n",
       "      <td>38</td>\n",
       "      <td>$700.00</td>\n",
       "      <td>$15.00</td>\n",
       "      <td>6</td>\n",
       "      <td>1</td>\n",
       "      <td>f</td>\n",
       "      <td>strict</td>\n",
       "      <td>f</td>\n",
       "    </tr>\n",
       "  </tbody>\n",
       "</table>\n",
       "<p>5 rows × 23 columns</p>\n",
       "</div>"
      ],
      "text/plain": [
       "  last_scraped  host_since host_has_profile_pic neighbourhood_group_cleansed  \\\n",
       "0     1/4/2016   8/11/2011                    t                   Queen Anne   \n",
       "1     1/4/2016   2/21/2013                    t                   Queen Anne   \n",
       "2     1/4/2016   6/12/2014                    t                   Queen Anne   \n",
       "3     1/4/2016   11/6/2013                    t                   Queen Anne   \n",
       "4     1/4/2016  11/29/2011                    t                   Queen Anne   \n",
       "\n",
       "    latitude   longitude property_type        room_type  accommodates  \\\n",
       "0  47.636289 -122.371025     Apartment  Entire home/apt             4   \n",
       "1  47.639123 -122.365667     Apartment  Entire home/apt             4   \n",
       "2  47.629724 -122.369483         House  Entire home/apt            11   \n",
       "3  47.638473 -122.369279     Apartment  Entire home/apt             3   \n",
       "4  47.632918 -122.372471         House  Entire home/apt             6   \n",
       "\n",
       "   bathrooms  ...     price cleaning_fee  number_of_reviews security_deposit  \\\n",
       "0        1.0  ...   $85.00           NaN                207              NaN   \n",
       "1        1.0  ...  $150.00       $40.00                  43         $100.00    \n",
       "2        4.5  ...  $975.00      $300.00                  20       $1,000.00    \n",
       "3        1.0  ...  $100.00           NaN                  0              NaN   \n",
       "4        2.0  ...  $450.00      $125.00                  38         $700.00    \n",
       "\n",
       "  extra_people  guests_included minimum_nights instant_bookable  \\\n",
       "0       $5.00                 2              1                f   \n",
       "1       $0.00                 1              2                f   \n",
       "2      $25.00                10              4                f   \n",
       "3       $0.00                 1              1                f   \n",
       "4      $15.00                 6              1                f   \n",
       "\n",
       "   cancellation_policy  require_guest_profile_picture  \n",
       "0             moderate                              f  \n",
       "1               strict                              t  \n",
       "2               strict                              f  \n",
       "3             flexible                              f  \n",
       "4               strict                              f  \n",
       "\n",
       "[5 rows x 23 columns]"
      ]
     },
     "execution_count": 2,
     "metadata": {},
     "output_type": "execute_result"
    }
   ],
   "source": [
    "df =pd.read_csv('\\\\Users\\\\cofos\\\\Downloads\\\\lisitngs.csv')\n",
    "\n",
    "#define the columns we want to keep\n",
    "columns_to_included = ['last_scraped','host_since', 'host_has_profile_pic', 'neighbourhood_group_cleansed', \n",
    "                   'latitude', 'longitude', 'property_type', 'room_type', 'accommodates', 'bathrooms',  \n",
    "                   'bedrooms', 'bed_type', 'square_feet', 'price', 'cleaning_fee','number_of_reviews',\n",
    "                   'security_deposit', 'extra_people', 'guests_included', 'minimum_nights',  \n",
    "                   'instant_bookable', 'cancellation_policy','require_guest_profile_picture',]\n",
    "\n",
    "# Select the columns we need for the analysis\n",
    "\n",
    "df= df[columns_to_included]\n",
    "df.head()"
   ]
  },
  {
   "cell_type": "code",
   "execution_count": 3,
   "metadata": {},
   "outputs": [
    {
     "data": {
      "text/html": [
       "<div>\n",
       "<style scoped>\n",
       "    .dataframe tbody tr th:only-of-type {\n",
       "        vertical-align: middle;\n",
       "    }\n",
       "\n",
       "    .dataframe tbody tr th {\n",
       "        vertical-align: top;\n",
       "    }\n",
       "\n",
       "    .dataframe thead th {\n",
       "        text-align: right;\n",
       "    }\n",
       "</style>\n",
       "<table border=\"1\" class=\"dataframe\">\n",
       "  <thead>\n",
       "    <tr style=\"text-align: right;\">\n",
       "      <th></th>\n",
       "      <th>column_name</th>\n",
       "      <th>missing_count</th>\n",
       "    </tr>\n",
       "  </thead>\n",
       "  <tbody>\n",
       "    <tr>\n",
       "      <th>6</th>\n",
       "      <td>property_type</td>\n",
       "      <td>1</td>\n",
       "    </tr>\n",
       "    <tr>\n",
       "      <th>1</th>\n",
       "      <td>host_since</td>\n",
       "      <td>2</td>\n",
       "    </tr>\n",
       "    <tr>\n",
       "      <th>2</th>\n",
       "      <td>host_has_profile_pic</td>\n",
       "      <td>2</td>\n",
       "    </tr>\n",
       "    <tr>\n",
       "      <th>10</th>\n",
       "      <td>bedrooms</td>\n",
       "      <td>6</td>\n",
       "    </tr>\n",
       "    <tr>\n",
       "      <th>9</th>\n",
       "      <td>bathrooms</td>\n",
       "      <td>16</td>\n",
       "    </tr>\n",
       "    <tr>\n",
       "      <th>14</th>\n",
       "      <td>cleaning_fee</td>\n",
       "      <td>1030</td>\n",
       "    </tr>\n",
       "    <tr>\n",
       "      <th>16</th>\n",
       "      <td>security_deposit</td>\n",
       "      <td>1952</td>\n",
       "    </tr>\n",
       "    <tr>\n",
       "      <th>12</th>\n",
       "      <td>square_feet</td>\n",
       "      <td>3721</td>\n",
       "    </tr>\n",
       "  </tbody>\n",
       "</table>\n",
       "</div>"
      ],
      "text/plain": [
       "             column_name  missing_count\n",
       "6          property_type              1\n",
       "1             host_since              2\n",
       "2   host_has_profile_pic              2\n",
       "10              bedrooms              6\n",
       "9              bathrooms             16\n",
       "14          cleaning_fee           1030\n",
       "16      security_deposit           1952\n",
       "12           square_feet           3721"
      ]
     },
     "execution_count": 3,
     "metadata": {},
     "output_type": "execute_result"
    }
   ],
   "source": [
    "missing_values = df.isnull().sum(axis=0).reset_index()\n",
    "missing_values.columns = ['column_name', 'missing_count']\n",
    "missing_values = missing_values.loc[missing_values['missing_count']>0]\n",
    "missing_values = missing_values.sort_values(by='missing_count')\n",
    "missing_values"
   ]
  },
  {
   "cell_type": "markdown",
   "metadata": {},
   "source": [
    "### Step 2: Data cleaning"
   ]
  },
  {
   "cell_type": "code",
   "execution_count": 4,
   "metadata": {},
   "outputs": [],
   "source": [
    "def clean_data(df):\n",
    "    '''\n",
    "    INPUT\n",
    "    df - pandas dataframe \n",
    "    \n",
    "    OUTPUT\n",
    "    df - pandas dataframe\n",
    "    This function cleans df using the following steps:\n",
    "    1. The price column has certain characters such as $ and comma that need to be remove and convert them to float.\n",
    "    2. Filling missing values with mode for the categorical variables and 0.00 for price columns.\n",
    "    3. Change columns with dtype object to category.\n",
    "    '''\n",
    "#The price column has certain characters such as $ and comma that need to be remove and convert them to float\n",
    "    df['price'] = df['price'].str.replace('$', '').str.replace(',', '').astype(float)\n",
    "    df['cleaning_fee'] = df['cleaning_fee'].str.replace('$', '').str.replace(',', '').astype(float)\n",
    "    df['extra_people'] = df['extra_people'].str.replace('$', '').str.replace(',', '').astype(float)\n",
    "    df['security_deposit'] = df['security_deposit'].str.replace('$', '').str.replace(',', '').astype(float)\n",
    "\n",
    "    #Filling missing values with median for numerical varaibles \n",
    "    \n",
    "    df.loc[df.bedrooms.isnull(), \"bedrooms\"] = df.groupby('room_type').bedrooms.transform('median')\n",
    "    df.loc[df.bathrooms.isnull(), \"bathrooms\"] = df.groupby('room_type').bathrooms.transform('median')\n",
    "    df['cleaning_fee'].fillna(0.00,inplace=True)\n",
    "    df['security_deposit'].fillna(0.00,inplace=True)\n",
    "\n",
    "#fill missing values with mode for categorical variables\n",
    " \n",
    "    df['host_has_profile_pic'] = df['host_has_profile_pic'].fillna(df['host_has_profile_pic'].mode()[0]) \n",
    "    df['property_type'] = df['property_type'].fillna(df['property_type'].mode()[0])\n",
    "    df['require_guest_profile_picture'] = df['require_guest_profile_picture'].fillna(df['require_guest_profile_picture'].mode()[0])\n",
    "    \n",
    "    #fill in nan's for host since column with back fill and forward fill\n",
    "    \n",
    "    df['host_since']= df['host_since'].fillna(method ='ffill').fillna(method ='bfill')\n",
    "    \n",
    "# change the datatype of host since to datatime\n",
    "    df['last_scraped'] = pd.to_datetime(df['last_scraped'])\n",
    "    df['host_since'] = pd.to_datetime(df['host_since'])\n",
    "    \n",
    "    df = df.drop(columns=['square_feet'])\n",
    "\n",
    "                                                                       \n",
    "                                                                       \n",
    "    return df\n",
    "df = clean_data(df)"
   ]
  },
  {
   "cell_type": "code",
   "execution_count": 5,
   "metadata": {},
   "outputs": [
    {
     "name": "stdout",
     "output_type": "stream",
     "text": [
      "<class 'pandas.core.frame.DataFrame'>\n",
      "RangeIndex: 3818 entries, 0 to 3817\n",
      "Data columns (total 22 columns):\n",
      " #   Column                         Non-Null Count  Dtype         \n",
      "---  ------                         --------------  -----         \n",
      " 0   last_scraped                   3818 non-null   datetime64[ns]\n",
      " 1   host_since                     3818 non-null   datetime64[ns]\n",
      " 2   host_has_profile_pic           3818 non-null   object        \n",
      " 3   neighbourhood_group_cleansed   3818 non-null   object        \n",
      " 4   latitude                       3818 non-null   float64       \n",
      " 5   longitude                      3818 non-null   float64       \n",
      " 6   property_type                  3818 non-null   object        \n",
      " 7   room_type                      3818 non-null   object        \n",
      " 8   accommodates                   3818 non-null   int64         \n",
      " 9   bathrooms                      3818 non-null   float64       \n",
      " 10  bedrooms                       3818 non-null   float64       \n",
      " 11  bed_type                       3818 non-null   object        \n",
      " 12  price                          3818 non-null   float64       \n",
      " 13  cleaning_fee                   3818 non-null   float64       \n",
      " 14  number_of_reviews              3818 non-null   int64         \n",
      " 15  security_deposit               3818 non-null   float64       \n",
      " 16  extra_people                   3818 non-null   float64       \n",
      " 17  guests_included                3818 non-null   int64         \n",
      " 18  minimum_nights                 3818 non-null   int64         \n",
      " 19  instant_bookable               3818 non-null   object        \n",
      " 20  cancellation_policy            3818 non-null   object        \n",
      " 21  require_guest_profile_picture  3818 non-null   object        \n",
      "dtypes: datetime64[ns](2), float64(8), int64(4), object(8)\n",
      "memory usage: 656.3+ KB\n"
     ]
    }
   ],
   "source": [
    "df.info()"
   ]
  },
  {
   "cell_type": "markdown",
   "metadata": {},
   "source": [
    "### Step 2 Feature Engineering\n",
    "* Location and number of years listed might have some influence on pricing.\n",
    "\n",
    "* Distance from the city center to the accommodation was calculated instead of using neighbourhood.\n",
    "\n",
    "* I calculated number of years listed by subtracting host_since from last_scraped.\n",
    "\n",
    "* Also property type has many categoriies. Therefore recategorization into four types, Apartment building, hotels, family house and cabin, yort, boat were all categorized as other"
   ]
  },
  {
   "cell_type": "code",
   "execution_count": 6,
   "metadata": {},
   "outputs": [],
   "source": [
    "def distance_to_loc(lat, long):\n",
    "    ''' this function take the latitude and longitude of a location and calculate\n",
    "        the distance from the location to the center of the city in kilometers\n",
    "    '''\n",
    "    center_berlin = (52.520008,13.404954)\n",
    "    accommodation = (lat, long)\n",
    "    return great_circle(center_berlin, accommodation).km\n",
    "df['distance'] = df.apply(lambda x: distance_to_loc(x.latitude, x.longitude), axis=1)"
   ]
  },
  {
   "cell_type": "code",
   "execution_count": 7,
   "metadata": {},
   "outputs": [],
   "source": [
    "df['no_years_listed'] = round((df['last_scraped'] - df['host_since']).dt.days/365,1)"
   ]
  },
  {
   "cell_type": "code",
   "execution_count": 8,
   "metadata": {},
   "outputs": [],
   "source": [
    "#Recategorizing property type column.\n",
    "def get_property_type(col):\n",
    "    if col == 'Apartment' :\n",
    "        return 'Apartment_building'\n",
    "    elif col == 'Condominium':\n",
    "        return 'Apartment_building'\n",
    "    elif col == 'Loft':\n",
    "        return 'Apartment_building'\n",
    "    elif col == 'Serviced apartment':\n",
    "        return 'Apartment_building'\n",
    "    \n",
    "    elif col == 'House':\n",
    "        return 'Family_house'\n",
    "    elif col == 'Townhouse':\n",
    "        return 'Family_house'\n",
    "    elif col == 'Bungalow':\n",
    "        return 'Family_house'\n",
    "    \n",
    "    elif col == 'Hotel':\n",
    "        return 'Hotel'\n",
    "    elif col == 'Bed & Breakfast':\n",
    "        return 'Hotel'\n",
    "    elif col == 'Hostel':\n",
    "        return 'Hotel'\n",
    "    elif col == 'Boutique hotel':\n",
    "        return 'Hotel'\n",
    "    elif col == 'Guest suite':\n",
    "        return 'Hotel'\n",
    "    elif col == 'Guesthouse':\n",
    "        return 'Hotel'\n",
    "    elif col == 'Aparthotel':\n",
    "        return 'Hotel'\n",
    "    \n",
    "    else:\n",
    "        return 'others'\n",
    "df['property_type'] = df['property_type'].apply(get_property_type)"
   ]
  },
  {
   "cell_type": "code",
   "execution_count": 9,
   "metadata": {},
   "outputs": [],
   "source": [
    "def get_neighbourhood(col):\n",
    "    if col == 'Capitol Hill' :\n",
    "        return 'Capitol Hill'\n",
    "    elif col == 'Downtown':\n",
    "        return 'Downtown'\n",
    "    elif col == 'Central Area':\n",
    "        return 'Central Area'\n",
    "    elif col == 'Queen Anne':\n",
    "        return 'Queen Anne'\n",
    "    \n",
    "    elif col == 'Ballard ':\n",
    "        return 'Ballard '\n",
    "    elif col == 'West Seattle':\n",
    "        return 'West Seattle'\n",
    "    else:\n",
    "        return 'others neighbourhood'\n",
    "df['neighbourhood_group_cleansed'] = df['neighbourhood_group_cleansed'].apply(get_neighbourhood)"
   ]
  },
  {
   "cell_type": "code",
   "execution_count": 10,
   "metadata": {},
   "outputs": [
    {
     "data": {
      "text/plain": [
       "Index(['last_scraped', 'host_since', 'host_has_profile_pic',\n",
       "       'neighbourhood_group_cleansed', 'latitude', 'longitude',\n",
       "       'property_type', 'room_type', 'accommodates', 'bathrooms', 'bedrooms',\n",
       "       'bed_type', 'price', 'cleaning_fee', 'number_of_reviews',\n",
       "       'security_deposit', 'extra_people', 'guests_included', 'minimum_nights',\n",
       "       'instant_bookable', 'cancellation_policy',\n",
       "       'require_guest_profile_picture', 'distance', 'no_years_listed'],\n",
       "      dtype='object')"
      ]
     },
     "execution_count": 10,
     "metadata": {},
     "output_type": "execute_result"
    }
   ],
   "source": [
    "df.columns"
   ]
  },
  {
   "cell_type": "code",
   "execution_count": 11,
   "metadata": {},
   "outputs": [],
   "source": [
    "df = df.drop(columns = ['last_scraped','host_since','bed_type','latitude','longitude'],axis =1)"
   ]
  },
  {
   "cell_type": "markdown",
   "metadata": {},
   "source": [
    "### Step 3 Feature Selection"
   ]
  },
  {
   "cell_type": "code",
   "execution_count": 12,
   "metadata": {},
   "outputs": [],
   "source": [
    "def extract_feature(df):\n",
    "    '''\n",
    "    INPUT\n",
    "    df - pandas dataframe \n",
    "    \n",
    "    OUTPUT\n",
    "    df - pandas dataframe\n",
    "    This function using the following steps to produce X and y:\n",
    "    1. separate numerical and categorical dtypes\n",
    "    2. Create dummy columns for all the categorical variables\n",
    "    3. Drop the price column from X as independent variables\n",
    "    4. create Y or dependent variable\n",
    "    '''\n",
    "    \n",
    "    # Separate numeric and Categorical variable\n",
    "    df_numeric = df.select_dtypes(include=['float64', 'int64', ]).copy()\n",
    "    df_cat = df.select_dtypes(include=['category','object']).copy()\n",
    "    \n",
    "    # create dummy variables for categorical variables\n",
    "    df_cat = pd.get_dummies(df_cat,drop_first=True)\n",
    "    df_final = pd.concat([df_numeric,df_cat], axis=1)\n",
    "    \n",
    "     # define our features\n",
    "    x = df_final.drop(['price'],axis = 1)\n",
    "    \n",
    "    #define target\n",
    "    y = np.log1p(df_final['price'])\n",
    "    return  x,y\n"
   ]
  },
  {
   "cell_type": "code",
   "execution_count": 13,
   "metadata": {},
   "outputs": [],
   "source": [
    "x,y = extract_feature(df)\n",
    " #Splitting data \n",
    "    \n",
    "X_train, X_test, y_train, y_test = train_test_split(x, y, test_size=0.25)"
   ]
  },
  {
   "cell_type": "markdown",
   "metadata": {},
   "source": [
    "### Step 4 Model Selection"
   ]
  },
  {
   "cell_type": "code",
   "execution_count": 14,
   "metadata": {},
   "outputs": [
    {
     "name": "stdout",
     "output_type": "stream",
     "text": [
      "R-square: 0.6661118020673658\n",
      "Mean Absolute Error: 0.24964477847853483\n",
      "Mean Squared Error: 0.10348650509351387\n",
      "Root Mean Squared Error: 0.32169318471723\n"
     ]
    }
   ],
   "source": [
    "#define model\n",
    "model = LinearRegression()\n",
    "#bundle scaling and modelling code in pipeline\n",
    "my_pipeline = Pipeline(steps=[('scaler', StandardScaler()),\n",
    "                             ('model',model)])\n",
    "#preprocessinf of training data, fit model\n",
    "my_pipeline.fit(X_train, y_train)\n",
    "#preprocessing of validation data, get predictions\n",
    "y_preds = my_pipeline.predict(X_test)\n",
    "\n",
    "print('R-square:', r2_score(y_test, y_preds))\n",
    "    \n",
    "print('Mean Absolute Error:', metrics.mean_absolute_error(y_test, y_preds))  \n",
    "    \n",
    "print('Mean Squared Error:', metrics.mean_squared_error(y_test, y_preds))  \n",
    "    \n",
    "print('Root Mean Squared Error:', np.sqrt(metrics.mean_squared_error(y_test, y_preds)))\n",
    "    "
   ]
  },
  {
   "cell_type": "code",
   "execution_count": 15,
   "metadata": {},
   "outputs": [
    {
     "data": {
      "image/png": "[encoded data removed]",
      "text/plain": [
       "<Figure size 432x288 with 1 Axes>"
      ]
     },
     "metadata": {
      "needs_background": "light"
     },
     "output_type": "display_data"
    }
   ],
   "source": [
    "lin_data = pd.DataFrame({'Predicted Labels':y_preds, 'Actual Labels':y_test})\n",
    "\n",
    "ax = sns.scatterplot(data=lin_data, x=\"Actual Labels\", y=\"Predicted Labels\", color='green')\n",
    "#add a regression line\n",
    "sns.regplot(data=lin_data, x=\"Actual Labels\", y=\"Predicted Labels\", scatter=False, ax=ax, color='blue')\n",
    "plt.title('LinearRegression')\n",
    "plt.show()"
   ]
  },
  {
   "cell_type": "code",
   "execution_count": null,
   "metadata": {},
   "outputs": [],
   "source": []
  },
  {
   "cell_type": "code",
   "execution_count": null,
   "metadata": {},
   "outputs": [],
   "source": []
  },
  {
   "cell_type": "code",
   "execution_count": 16,
   "metadata": {},
   "outputs": [
    {
     "name": "stdout",
     "output_type": "stream",
     "text": [
      "R-square: 0.6330640691008116\n",
      "Mean Absolute Error: 0.2658115551441573\n",
      "Mean Squared Error: 0.11372943792896086\n",
      "Root Mean Squared Error: 0.3372379544608834\n"
     ]
    }
   ],
   "source": [
    "pipeline1 = Pipeline([('scaling', StandardScaler()),\n",
    "                      ('decision',DecisionTreeRegressor(max_depth=5,random_state=1))])\n",
    "    \n",
    "    # train model\n",
    "pipeline1.fit(X_train, y_train)\n",
    "    \n",
    "    # predict on test data\n",
    "y_pred1 = pipeline1.predict(X_test)\n",
    "    \n",
    "    # display results\n",
    "print('R-square:', r2_score(y_test, y_pred1))\n",
    "    \n",
    "print('Mean Absolute Error:', metrics.mean_absolute_error(y_test, y_pred1))  \n",
    "    \n",
    "print('Mean Squared Error:', metrics.mean_squared_error(y_test, y_pred1))  \n",
    "    \n",
    "print('Root Mean Squared Error:', np.sqrt(metrics.mean_squared_error(y_test, y_pred1)))\n",
    "    \n",
    "    \n",
    "    \n",
    "     "
   ]
  },
  {
   "cell_type": "code",
   "execution_count": 17,
   "metadata": {},
   "outputs": [
    {
     "data": {
      "image/png": "[encoded data removed]",
      "text/plain": [
       "<Figure size 432x288 with 1 Axes>"
      ]
     },
     "metadata": {
      "needs_background": "light"
     },
     "output_type": "display_data"
    }
   ],
   "source": [
    "data = pd.DataFrame({'Predicted Labels':y_pred1, 'Actual Labels':y_test})\n",
    "\n",
    "ax = sns.scatterplot(data=data, x=\"Actual Labels\", y=\"Predicted Labels\", color='green')\n",
    "#add a regression line\n",
    "sns.regplot(data=lin_data, x=\"Actual Labels\", y=\"Predicted Labels\", scatter=False, ax=ax, color='blue')\n",
    "plt.title('Decision Tree Regressor')\n",
    "plt.show()"
   ]
  },
  {
   "cell_type": "code",
   "execution_count": 18,
   "metadata": {},
   "outputs": [
    {
     "name": "stdout",
     "output_type": "stream",
     "text": [
      "R-square: 0.7135714926940953\n",
      "Mean Absolute Error: 0.23501653801082695\n",
      "Mean Squared Error: 0.08877667843240329\n",
      "Root Mean Squared Error: 0.29795415491716726\n"
     ]
    }
   ],
   "source": [
    "\n",
    "pipeline2 = Pipeline([('scaling', StandardScaler()),\n",
    "                      ('gbr',GradientBoostingRegressor())])\n",
    "    \n",
    "    # train model\n",
    "pipeline2.fit(X_train, y_train)\n",
    "    \n",
    "    # predict on test data\n",
    "y_pred2 = pipeline2.predict(X_test)\n",
    "    \n",
    "    # display results\n",
    "\n",
    "print('R-square:', r2_score(y_test, y_pred2))\n",
    "    \n",
    "print('Mean Absolute Error:', metrics.mean_absolute_error(y_test, y_pred2))  \n",
    "    \n",
    "print('Mean Squared Error:', metrics.mean_squared_error(y_test, y_pred2))  \n",
    "    \n",
    "print('Root Mean Squared Error:', np.sqrt(metrics.mean_squared_error(y_test, y_pred2)))\n",
    "    \n",
    "\n",
    "     "
   ]
  },
  {
   "cell_type": "code",
   "execution_count": 19,
   "metadata": {},
   "outputs": [
    {
     "data": {
      "image/png": "[encoded data removed]",
      "text/plain": [
       "<Figure size 432x288 with 1 Axes>"
      ]
     },
     "metadata": {
      "needs_background": "light"
     },
     "output_type": "display_data"
    }
   ],
   "source": [
    "data2 = pd.DataFrame({'Predicted Labels':y_pred2, 'Actual Labels':y_test})\n",
    "\n",
    "ax = sns.scatterplot(data=data, x=\"Actual Labels\", y=\"Predicted Labels\", color='green')\n",
    "#add a regression line\n",
    "sns.regplot(data=data2, x=\"Actual Labels\", y=\"Predicted Labels\", scatter=False, ax=ax, color='blue')\n",
    "plt.title('Gradient Boosting Regressor')\n",
    "plt.show()"
   ]
  },
  {
   "cell_type": "code",
   "execution_count": 20,
   "metadata": {},
   "outputs": [
    {
     "name": "stdout",
     "output_type": "stream",
     "text": [
      "R-square: 0.6978613803413096\n",
      "Mean Absolute Error: 0.23277811494492998\n",
      "Mean Squared Error: 0.09364592697752327\n",
      "Root Mean Squared Error: 0.30601622012161916\n"
     ]
    }
   ],
   "source": [
    "# Build pipeline\n",
    "pipeline3 = Pipeline([('scaling', StandardScaler()),\n",
    "                      ('rf',RandomForestRegressor())])\n",
    "    \n",
    "    # train model\n",
    "pipeline3.fit(X_train, y_train)\n",
    "    \n",
    "    # predict on test data\n",
    "y_pred3 = pipeline3.predict(X_test)\n",
    "    \n",
    "    # display results\n",
    "    \n",
    "print('R-square:', r2_score(y_test, y_pred3))\n",
    "    \n",
    "print('Mean Absolute Error:', metrics.mean_absolute_error(y_test, y_pred3))  \n",
    "    \n",
    "print('Mean Squared Error:', metrics.mean_squared_error(y_test, y_pred3))  \n",
    "    \n",
    "print('Root Mean Squared Error:', np.sqrt(metrics.mean_squared_error(y_test, y_pred3)))\n",
    "    \n",
    "\n"
   ]
  },
  {
   "cell_type": "code",
   "execution_count": 21,
   "metadata": {},
   "outputs": [
    {
     "data": {
      "image/png": "[encoded data removed]",
      "text/plain": [
       "<Figure size 432x288 with 1 Axes>"
      ]
     },
     "metadata": {
      "needs_background": "light"
     },
     "output_type": "display_data"
    }
   ],
   "source": [
    "data2 = pd.DataFrame({'Predicted Labels':y_pred3, 'Actual Labels':y_test})\n",
    "\n",
    "ax = sns.scatterplot(data=data, x=\"Actual Labels\", y=\"Predicted Labels\", color='green')\n",
    "#add a regression line\n",
    "sns.regplot(data=data2, x=\"Actual Labels\", y=\"Predicted Labels\", scatter=False, ax=ax, color='blue')\n",
    "plt.title('Random Forest Regressor')\n",
    "plt.show()\n",
    "     "
   ]
  },
  {
   "cell_type": "markdown",
   "metadata": {},
   "source": [
    "### Step 5 Fine-tune Random Forest and GradientBoost"
   ]
  },
  {
   "cell_type": "code",
   "execution_count": 22,
   "metadata": {},
   "outputs": [],
   "source": [
    "# Fine-tune Random Forest\n",
    "\n",
    "# Number of trees in random forest\n",
    "n_estimators = [int(x) for x in np.linspace(start =10,stop=80,num = 10)]\n",
    "\n",
    "# number of features to consider at every split\n",
    "max_features = ['auto','sqrt']\n",
    "\n",
    "# Maximum number of level in tree\n",
    "max_depth = [2,4]\n",
    "\n",
    "# Minimum number of sample required to split a node\n",
    "min_samples_split = [2,5]\n",
    "\n",
    "#Minimum number of sample required at each node\n",
    "min_samples_leaf = [1,2]\n",
    "\n",
    "# Method of selecting samples for training eac tree\n",
    "bootstrap = [True,False]"
   ]
  },
  {
   "cell_type": "code",
   "execution_count": 23,
   "metadata": {},
   "outputs": [],
   "source": [
    "param_grid = {'n_estimators': n_estimators,\n",
    "             'max_features': max_features,\n",
    "             'max_depth': max_depth,\n",
    "             'min_samples_split': min_samples_split,\n",
    "             'min_samples_leaf': min_samples_leaf,\n",
    "             'bootstrap': bootstrap\n",
    "            }\n"
   ]
  },
  {
   "cell_type": "markdown",
   "metadata": {},
   "source": [
    "#### hypertuning the best model which is the random forest regressor using gridsearchcv\n",
    "\n"
   ]
  },
  {
   "cell_type": "code",
   "execution_count": 24,
   "metadata": {},
   "outputs": [
    {
     "name": "stdout",
     "output_type": "stream",
     "text": [
      "Fitting 3 folds for each of 320 candidates, totalling 960 fits\n"
     ]
    },
    {
     "name": "stderr",
     "output_type": "stream",
     "text": [
      "[Parallel(n_jobs=4)]: Using backend LokyBackend with 4 concurrent workers.\n",
      "[Parallel(n_jobs=4)]: Done  33 tasks      | elapsed:    4.2s\n",
      "[Parallel(n_jobs=4)]: Done 154 tasks      | elapsed:   10.0s\n",
      "[Parallel(n_jobs=4)]: Done 357 tasks      | elapsed:   21.4s\n",
      "[Parallel(n_jobs=4)]: Done 640 tasks      | elapsed:   34.3s\n",
      "[Parallel(n_jobs=4)]: Done 960 out of 960 | elapsed:   51.0s finished\n"
     ]
    },
    {
     "data": {
      "text/plain": [
       "GridSearchCV(cv=3, estimator=RandomForestRegressor(), n_jobs=4,\n",
       "             param_grid={'bootstrap': [True, False], 'max_depth': [2, 4],\n",
       "                         'max_features': ['auto', 'sqrt'],\n",
       "                         'min_samples_leaf': [1, 2],\n",
       "                         'min_samples_split': [2, 5],\n",
       "                         'n_estimators': [10, 17, 25, 33, 41, 48, 56, 64, 72,\n",
       "                                          80]},\n",
       "             verbose=2)"
      ]
     },
     "execution_count": 24,
     "metadata": {},
     "output_type": "execute_result"
    }
   ],
   "source": [
    "rf1 =RandomForestRegressor()\n",
    "\n",
    "# Instantiate the grid search model\n",
    "grid_search = GridSearchCV(estimator = rf1, param_grid = param_grid,\n",
    "                          cv = 3, n_jobs = 4, verbose = 2)\n",
    "\n",
    "# Fit the grid search to the data\n",
    "grid_search.fit(X_train, y_train)"
   ]
  },
  {
   "cell_type": "code",
   "execution_count": 25,
   "metadata": {},
   "outputs": [
    {
     "name": "stdout",
     "output_type": "stream",
     "text": [
      " Results from Grid Search \n",
      "\n",
      " The best estimator across ALL searched params:\n",
      " RandomForestRegressor(max_depth=4, min_samples_split=5, n_estimators=56)\n",
      "\n",
      " The best score across ALL searched params:\n",
      " 0.6341521820291989\n",
      "\n",
      " The best parameters across ALL searched params:\n",
      " {'bootstrap': True, 'max_depth': 4, 'max_features': 'auto', 'min_samples_leaf': 1, 'min_samples_split': 5, 'n_estimators': 56}\n"
     ]
    }
   ],
   "source": [
    "print(\" Results from Grid Search \" )\n",
    "print(\"\\n The best estimator across ALL searched params:\\n\",grid_search.best_estimator_)\n",
    "print(\"\\n The best score across ALL searched params:\\n\",grid_search.best_score_)\n",
    "print(\"\\n The best parameters across ALL searched params:\\n\",grid_search.best_params_)"
   ]
  },
  {
   "cell_type": "code",
   "execution_count": 26,
   "metadata": {},
   "outputs": [
    {
     "name": "stdout",
     "output_type": "stream",
     "text": [
      "Train Accuracy: 0.659\n",
      "Test Accuracy: 0.652\n"
     ]
    }
   ],
   "source": [
    "#print(f'Train Accuracy: {grid_search.score(X_train,y_train):.3f}')\n",
    "\n",
    "print('Train Accuracy: %.3f' % grid_search.score(X_train, y_train))\n",
    "\n",
    "print('Test Accuracy: %.3f' % grid_search.score(X_test, y_test))"
   ]
  },
  {
   "cell_type": "code",
   "execution_count": null,
   "metadata": {},
   "outputs": [],
   "source": []
  },
  {
   "cell_type": "code",
   "execution_count": 23,
   "metadata": {},
   "outputs": [],
   "source": []
  },
  {
   "cell_type": "code",
   "execution_count": null,
   "metadata": {},
   "outputs": [],
   "source": []
  },
  {
   "cell_type": "code",
   "execution_count": null,
   "metadata": {},
   "outputs": [],
   "source": [
    "\n",
    "\n"
   ]
  },
  {
   "cell_type": "code",
   "execution_count": null,
   "metadata": {},
   "outputs": [],
   "source": []
  },
  {
   "cell_type": "code",
   "execution_count": 27,
   "metadata": {},
   "outputs": [],
   "source": []
  },
  {
   "cell_type": "code",
   "execution_count": null,
   "metadata": {},
   "outputs": [],
   "source": []
  },
  {
   "cell_type": "code",
   "execution_count": null,
   "metadata": {},
   "outputs": [],
   "source": []
  }
 ],
 "metadata": {
  "kernelspec": {
   "display_name": "Python 3",
   "language": "python",
   "name": "python3"
  },
  "language_info": {
   "codemirror_mode": {
    "name": "ipython",
    "version": 3
   },
   "file_extension": ".py",
   "mimetype": "text/x-python",
   "name": "python",
   "nbconvert_exporter": "python",
   "pygments_lexer": "ipython3",
   "version": "3.8.3"
  }
 },
 "nbformat": 4,
 "nbformat_minor": 4
}
